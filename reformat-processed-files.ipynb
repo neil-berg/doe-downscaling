{
 "cells": [
  {
   "cell_type": "markdown",
   "metadata": {},
   "source": [
    "### Reformat the processed netcdf files so that lat/lon variables are 1D not 2D and have coordinate variables with lat/lon dimensions"
   ]
  },
  {
   "cell_type": "code",
   "execution_count": 4,
   "metadata": {},
   "outputs": [
    {
     "name": "stdout",
     "output_type": "stream",
     "text": [
      "/Users/nberg/projects/doe/data/processed/wrf_hist_1991-2000_tmax_april_CA_mask.nc\n",
      "/Users/nberg/projects/doe/data/processed/wrf_fut_1991-2000_tmax_april_CA_mask.nc\n",
      "/Users/nberg/projects/doe/data/processed/wrf_hist_1991-2000_annual_pr_CA_mask.nc\n",
      "/Users/nberg/projects/doe/data/processed/wrf_fut_1991-2000_annual_pr_CA_mask.nc\n",
      "/Users/nberg/projects/doe/data/processed/livneh_hist_1991-2000_tmax_april_CA_mask.nc\n",
      "/Users/nberg/projects/doe/data/processed/livneh_hist_1991-2000_annual_pr_CA_mask.nc\n",
      "/Users/nberg/projects/doe/data/processed/loca_wrf_hist_1991-2000_tmax_april_CA_mask.nc\n",
      "/Users/nberg/projects/doe/data/processed/loca_wrf_fut_1991-2000_tmax_april_CA_mask.nc\n",
      "/Users/nberg/projects/doe/data/processed/loca_wrf_hist_1991-2000_annual_pr_CA_mask.nc\n",
      "/Users/nberg/projects/doe/data/processed/loca_wrf_fut_1991-2000_annual_pr_CA_mask.nc\n",
      "/Users/nberg/projects/doe/data/processed/loca_livneh_hist_1991-2000_tmax_april_CA_mask.nc\n",
      "/Users/nberg/projects/doe/data/processed/loca_livneh_fut_1991-2000_tmax_april_CA_mask.nc\n",
      "/Users/nberg/projects/doe/data/processed/loca_livneh_hist_1991-2000_annual_pr_CA_mask.nc\n",
      "/Users/nberg/projects/doe/data/processed/loca_livneh_fut_1991-2000_annual_pr_CA_mask.nc\n"
     ]
    },
    {
     "name": "stderr",
     "output_type": "stream",
     "text": [
      "/anaconda3/lib/python3.5/site-packages/ipykernel_launcher.py:22: RuntimeWarning: invalid value encountered in greater\n",
      "/anaconda3/lib/python3.5/site-packages/ipykernel_launcher.py:26: RuntimeWarning: invalid value encountered in greater\n"
     ]
    }
   ],
   "source": [
    "import os\n",
    "import netCDF4\n",
    "import numpy as np\n",
    "\n",
    "src_dir = '/Users/nberg/projects/doe/data/processed/'\n",
    "inv_dir = '/Users/nberg/projects/doe/data/invariant/'\n",
    "datasets = ['wrf', 'livneh', 'loca_wrf', 'loca_livneh']\n",
    "variables = ['tmax_april', 'annual_pr']\n",
    "periods = ['hist', 'fut']\n",
    "\n",
    "for dataset in datasets:\n",
    "    for variable in variables:\n",
    "        for period in periods:\n",
    "            src_fl = src_dir+'{0}_{1}_1991-2000_{2}.nc'.format(dataset, period, variable)\n",
    "            if os.path.exists(src_fl):\n",
    "            \n",
    "                # Read in this dataset's gridded data \n",
    "                ncfile = netCDF4.Dataset(src_fl, 'r')\n",
    "                lat2d = ncfile.variables['lat'][:,:]\n",
    "                lon2d = ncfile.variables['lon'][:,:]\n",
    "                if variable == 'tmax_april':\n",
    "                    tmax = ncfile.variables['tmax'][:,:]\n",
    "                    # Convert from K to C\n",
    "                    tmax = tmax - 273.15 \n",
    "                if variable == 'annual_pr':\n",
    "                    pr = ncfile.variables['pr'][:,:]\n",
    "                ncfile.close()\n",
    "                \n",
    "                # Read in the CA land mask for this dataset and carve out CA\n",
    "                mask_ncfile = netCDF4.Dataset(inv_dir+'{0}_CA_mask.nc'.format('-'.join(dataset.split('_')), 'r'))\n",
    "                landmask = mask_ncfile.variables['landmask'][:,:]\n",
    "                landmask_bool = np.array(landmask, dtype=bool)\n",
    "                mask_ncfile.close()\n",
    "                \n",
    "                if variable == 'tmax_april':\n",
    "                    tmax_ca = np.ma.masked_where(landmask == 0, tmax)\n",
    "                if variable == 'annual_pr':\n",
    "                    pr_ca = np.ma.masked_where(landmask == 0, pr)\n",
    "                \n",
    "                # Create 1D arrays of lat and lon\n",
    "                lat1d = lat2d[:,0]\n",
    "                lon1d = lon2d[0,:]\n",
    "                nlat, nlon = len(lat1d), len(lon1d)\n",
    "                \n",
    "                # Output reformatted netcdf files with metadata!\n",
    "                dest_fl = src_dir+'{0}_{1}_1991-2000_{2}_CA_mask.nc'.format(dataset, period, variable)\n",
    "                if os.path.exists(dest_fl):\n",
    "                    os.remove(dest_fl)\n",
    "                    \n",
    "                ncfile_out = netCDF4.Dataset(dest_fl, 'w')\n",
    "                ncfile_out.createDimension('lat', nlat)\n",
    "                ncfile_out.createDimension('lon', nlon)\n",
    "                lat_out = ncfile_out.createVariable('lat', 'f4', ('lat'),)\n",
    "                lon_out = ncfile_out.createVariable('lon', 'f4', ('lon'),)\n",
    "                if variable == 'tmax_april':\n",
    "                    tmax_out = ncfile_out.createVariable('tmax', 'f4', ('lat', 'lon'),)\n",
    "                    setattr(tmax_out, 'units', 'degC')\n",
    "                if variable == 'annual_pr':\n",
    "                    pr_out = ncfile_out.createVariable('pr', 'f4', ('lat', 'lon'),)\n",
    "                    setattr(pr_out, 'units', 'mm/day')\n",
    "                \n",
    "                setattr(lat_out, 'units', 'degrees_north')\n",
    "                setattr(lon_out, 'units', 'degrees_east')\n",
    "                \n",
    "                lat_out[:] = lat1d[:]\n",
    "                lon_out[:] = lon1d[:]\n",
    "                if variable == 'tmax_april':\n",
    "                    tmax_out[:,:] = tmax_ca[:,:]\n",
    "                if variable == 'annual_pr':\n",
    "                    pr_out[:,:] = pr_ca[:,:]\n",
    "                ncfile_out.close()\n",
    "                print(dest_fl)\n",
    "                "
   ]
  },
  {
   "cell_type": "code",
   "execution_count": null,
   "metadata": {},
   "outputs": [],
   "source": []
  }
 ],
 "metadata": {
  "kernelspec": {
   "display_name": "Python 3",
   "language": "python",
   "name": "python3"
  },
  "language_info": {
   "codemirror_mode": {
    "name": "ipython",
    "version": 3
   },
   "file_extension": ".py",
   "mimetype": "text/x-python",
   "name": "python",
   "nbconvert_exporter": "python",
   "pygments_lexer": "ipython3",
   "version": "3.5.4"
  }
 },
 "nbformat": 4,
 "nbformat_minor": 2
}
