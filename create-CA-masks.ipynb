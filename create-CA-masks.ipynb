{
 "cells": [
  {
   "cell_type": "markdown",
   "metadata": {},
   "source": [
    "#### Simple function to transform 2D lat/lon arrays into 1D CSV files"
   ]
  },
  {
   "cell_type": "code",
   "execution_count": 1,
   "metadata": {},
   "outputs": [],
   "source": [
    "import pandas as pd\n",
    "import xarray as xr\n",
    "import numpy as np\n",
    "import matplotlib.pyplot as plt\n",
    "import netCDF4\n",
    "import os\n",
    "\n",
    "from scipy.spatial import distance"
   ]
  },
  {
   "cell_type": "code",
   "execution_count": 12,
   "metadata": {},
   "outputs": [
    {
     "name": "stdout",
     "output_type": "stream",
     "text": [
      "/Users/nberg/projects/doe/data/wrf_lat_lon.csv\n",
      "/Users/nberg/projects/doe/data/loca-wrf_lat_lon.csv\n",
      "/Users/nberg/projects/doe/data/livneh_lat_lon.csv\n",
      "/Users/nberg/projects/doe/data/loca-livneh_lat_lon.csv\n"
     ]
    }
   ],
   "source": [
    "src_dir = '/Users/nberg/projects/doe/data/'\n",
    "\n",
    "def csv_lat_lon(src_fl):\n",
    "    ''' Transform 2D lat/lon arrays into 1D CSV files '''\n",
    "    \n",
    "    df_out = pd.DataFrame()\n",
    "    \n",
    "    #src_nc = xr.open_dataset(src_fl)\n",
    "    src_nc = netCDF4.Dataset(src_dir + src_fl)\n",
    "    lat2d = src_nc['lat'][:,:]\n",
    "    lon2d = src_nc['lon'][:,:]\n",
    "    src_nc.close()\n",
    "    \n",
    "    df_out['lat'] = lat2d.flatten()\n",
    "    df_out['lon'] = lon2d.flatten()\n",
    "\n",
    "    # Obtain the prefix for creating the destination file\n",
    "    str_parts = src_fl.split('_')\n",
    "    if str_parts[0] in ['wrf', 'livneh']:\n",
    "            prefix = str_parts[0]\n",
    "    else:\n",
    "        prefix = '-'.join([str_parts[0], str_parts[1]])\n",
    "    \n",
    "    dest_fl = src_dir+prefix+'_lat_lon.csv'\n",
    "    if os.path.exists(dest_fl): os.remove(dest_fl)\n",
    "    \n",
    "    df_out.to_csv(dest_fl, float_format = '%.4f')\n",
    "    print(dest_fl)\n",
    "\n",
    "\n",
    "if __name__=='__main__':\n",
    "    files = ['wrf_hist_1991-2000_tmax_april.nc', \n",
    "            'loca_wrf_hist_1991-2000_tmax_april.nc',\n",
    "            'livneh_hist_1991-2000_tmax_april.nc',\n",
    "            'loca_livneh_hist_1991-2000_tmax_april.nc']\n",
    "\n",
    "    for src_fl in files:\n",
    "        csv_lat_lon(src_fl)\n",
    "\n"
   ]
  },
  {
   "cell_type": "markdown",
   "metadata": {},
   "source": [
    "#### Generic nearest neighbor function to locate a dataset;s grid cell from the lat/lon data contained in the joined CSV files"
   ]
  },
  {
   "cell_type": "code",
   "execution_count": 2,
   "metadata": {},
   "outputs": [],
   "source": [
    "def nearest_neighbor(inv_fl, pt_lat, pt_lon):\n",
    "    \"\"\" Locate nearest grid cell given a point lat/lon \"\"\"\n",
    "\n",
    "    ncfile = netCDF4.Dataset(inv_fl, 'r')\n",
    "    lat = ncfile.variables['lat'][:,:]\n",
    "    lon = ncfile.variables['lon'][:,:]\n",
    "    nlat, nlon = np.shape(lat)\n",
    "    ncfile.close()\n",
    "\n",
    "    # set up 2D lat/lon coordinate array \n",
    "    npts = nlat*nlon\n",
    "    ds_coords = np.zeros([2,npts])\n",
    "    ds_indices = np.zeros([2,npts])\n",
    "    idx = 0 \n",
    "    for i in range(nlat):\n",
    "        for j in range(nlon):\n",
    "            ds_coords[0,idx] = lat[i,j]\n",
    "            ds_coords[1,idx] = lon[i,j]\n",
    "            ds_indices[0,idx] = i \n",
    "            ds_indices[1,idx] = j \n",
    "            idx += 1\n",
    "\n",
    "    # Compute distances from point coordinate to all dataset grid cells\n",
    "    obs_pt = np.array([pt_lat,pt_lon]).reshape((2,1))\n",
    "    dist = distance.cdist(ds_coords.T,obs_pt.T)\n",
    "\n",
    "    near_idx = dist.argmin()\n",
    "    near_lat, near_lon = ds_coords[0,near_idx], ds_coords[1,near_idx]\n",
    "    near_lat_idx, near_lon_idx = int(ds_indices[0,near_idx]), int(ds_indices[1,near_idx])\n",
    "\n",
    "    return near_lat_idx, near_lon_idx"
   ]
  },
  {
   "cell_type": "markdown",
   "metadata": {},
   "source": [
    "#### Create new netcdf files storing a CA mask array"
   ]
  },
  {
   "cell_type": "code",
   "execution_count": 5,
   "metadata": {},
   "outputs": [
    {
     "name": "stdout",
     "output_type": "stream",
     "text": [
      "0\n",
      "1000\n",
      "2000\n",
      "3000\n",
      "4000\n",
      "5000\n",
      "6000\n",
      "7000\n",
      "8000\n",
      "9000\n",
      "10000\n",
      "11000\n",
      "/Users/nberg/projects/doe/data/invariant/livneh_CA_mask.nc\n",
      "0\n",
      "1000\n",
      "2000\n",
      "3000\n",
      "4000\n",
      "5000\n",
      "6000\n",
      "7000\n",
      "8000\n",
      "9000\n",
      "10000\n",
      "11000\n",
      "/Users/nberg/projects/doe/data/invariant/loca-wrf_CA_mask.nc\n",
      "0\n",
      "1000\n",
      "2000\n",
      "3000\n",
      "4000\n",
      "5000\n",
      "6000\n",
      "7000\n",
      "8000\n",
      "9000\n",
      "10000\n",
      "11000\n",
      "/Users/nberg/projects/doe/data/invariant/loca-livneh_CA_mask.nc\n"
     ]
    }
   ],
   "source": [
    "def create_mask(dataset):\n",
    "    \"\"\" Create watershed masks and output as a netCDF file \"\"\"\n",
    "\n",
    "    # Read in the invariant file to get dimension sizes\n",
    "    src_path = '/Users/nberg/projects/doe/data/invariant/'\n",
    "    \n",
    "    ds_inv_fl = src_path+'{0}_lat_lon.nc'.format(dataset)\n",
    "    ds_join_fl = src_path+'{0}_CA_mask_join.csv'.format(dataset)\n",
    "    \n",
    "    ds_inv_nc = netCDF4.Dataset(ds_inv_fl, 'r')\n",
    "    lat2d = ds_inv_nc.variables['lat'][:,:]\n",
    "    lon2d = ds_inv_nc.variables['lon'][:,:]\n",
    "    ds_inv_nc.close()\n",
    "\n",
    "    nlat, nlon = np.shape(lat2d)\n",
    "\n",
    "    # Read in the joined CSV file from QGIS\n",
    "    df = pd.read_csv(ds_join_fl).drop(['field_1', 'REGION', 'DIVISION', 'STATEFP', 'STATENS',\n",
    "                                   'GEOID', 'STUSPS', 'NAME', 'LSAD', 'MTFCC', 'FUNCSTAT',\n",
    "                                   'ALAND', 'AWATER', 'INTPTLAT', 'INTPTLON'], axis=1)\n",
    "    \n",
    "    # Generate a 2D array of the watershed codes \n",
    "    mask_arr = np.zeros([nlat,nlon], dtype='int')\n",
    "    for idx, row in df.iterrows():\n",
    "        near_lat_idx, near_lon_idx = nearest_neighbor(ds_inv_fl, df['lat'][idx], df['lon'][idx])\n",
    "        mask_arr[near_lat_idx,near_lon_idx] = 1\n",
    "\n",
    "    # Output masks in a new netCDF file \n",
    "    fl_out = src_path+'{0}_CA_mask.nc'.format(dataset)\n",
    "    if os.path.exists(fl_out):\n",
    "        os.remove(fl_out)\n",
    "\n",
    "    ncfile_out = netCDF4.Dataset(fl_out, 'w')\n",
    "    ncfile_out.createDimension('lat', nlat)\n",
    "    ncfile_out.createDimension('lon', nlon)\n",
    "    lat_out = ncfile_out.createVariable('lat', 'f4', ('lat', 'lon'),)\n",
    "    lon_out = ncfile_out.createVariable('lon', 'f4', ('lat', 'lon'),)\n",
    "    mask_out = ncfile_out.createVariable('watershed', 'int', ('lat', 'lon',))\n",
    "    setattr(lat_out, 'units', 'degrees_north')\n",
    "    setattr(lon_out, 'units', 'degrees_east')\n",
    "    setattr(mask_out, 'description', 'Watershed integer code')\n",
    "    lat_out[:,:] = lat2d[:,:]\n",
    "    lon_out[:,:] = lon2d[:,:]\n",
    "    mask_out[:,:] = mask_arr[:,:]\n",
    "    ncfile_out.close()\n",
    "    print(fl_out)\n",
    "    \n",
    "if __name__ == '__main__':\n",
    "    #datasets = ['wrf', 'livneh', 'loca-wrf', 'loca-livneh']\n",
    "    datasets = ['livneh', 'loca-wrf', 'loca-livneh']\n",
    "    for dataset in datasets:\n",
    "        ret = create_mask(dataset)"
   ]
  },
  {
   "cell_type": "code",
   "execution_count": null,
   "metadata": {},
   "outputs": [],
   "source": []
  }
 ],
 "metadata": {
  "kernelspec": {
   "display_name": "Python 3",
   "language": "python",
   "name": "python3"
  },
  "language_info": {
   "codemirror_mode": {
    "name": "ipython",
    "version": 3
   },
   "file_extension": ".py",
   "mimetype": "text/x-python",
   "name": "python",
   "nbconvert_exporter": "python",
   "pygments_lexer": "ipython3",
   "version": "3.5.4"
  }
 },
 "nbformat": 4,
 "nbformat_minor": 2
}
