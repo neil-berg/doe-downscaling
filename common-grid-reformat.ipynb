{
 "cells": [
  {
   "cell_type": "markdown",
   "metadata": {},
   "source": [
    "### Placing WRF, Livneh, LOCA-WRF, and LOCA-Livneh on a common grid\n",
    "\n",
    "WRF, Livneh, LOCA-WRF, and LOCA-Livneh all have the same spatial resolution (0.0625 deg x 0.0625 deg), but are all on difference grid sizes (i.e. nlat and nlon differ). \n",
    "\n",
    "* Dataset: lat x lon\n",
    "* WRF: 242 x 271\n",
    "* Livneh: 195 x 179\n",
    "* LOCA-WRF: 250 x 279\n",
    "* LOCA-Livneh: 201 x 279\n",
    "\n",
    "So, we can chunk out WRF, LOCA-WRF, and LOCA-Livneh to match the dimensions of Livneh (smallest nlat and nlon of the bunch). The following lat/lon index ranges match the lat/lon grid of Livneh:\n",
    "\n",
    "* WRF: lats: 37 - 231, lons: 87 - 265\n",
    "* LOCA-WRF: lats: 41 - 235, lons: 91 - 269\n",
    "* LOCA-Livneh: lats: 3 - 197, lons: 3 - 181"
   ]
  },
  {
   "cell_type": "code",
   "execution_count": 28,
   "metadata": {},
   "outputs": [
    {
     "name": "stdout",
     "output_type": "stream",
     "text": [
      "/Users/nberg/projects/doe/data/processed/wrf_hist_1991-2000_tmax_april_CA_mask_same_grid.nc\n",
      "/Users/nberg/projects/doe/data/processed/wrf_fut_1991-2000_tmax_april_CA_mask_same_grid.nc\n",
      "/Users/nberg/projects/doe/data/processed/wrf_hist_1991-2000_annual_pr_CA_mask_same_grid.nc\n",
      "/Users/nberg/projects/doe/data/processed/wrf_fut_1991-2000_annual_pr_CA_mask_same_grid.nc\n",
      "/Users/nberg/projects/doe/data/processed/loca_wrf_hist_1991-2000_tmax_april_CA_mask_same_grid.nc\n",
      "/Users/nberg/projects/doe/data/processed/loca_wrf_fut_1991-2000_tmax_april_CA_mask_same_grid.nc\n",
      "/Users/nberg/projects/doe/data/processed/loca_wrf_hist_1991-2000_annual_pr_CA_mask_same_grid.nc\n",
      "/Users/nberg/projects/doe/data/processed/loca_wrf_fut_1991-2000_annual_pr_CA_mask_same_grid.nc\n",
      "/Users/nberg/projects/doe/data/processed/loca_livneh_hist_1991-2000_tmax_april_CA_mask_same_grid.nc\n",
      "/Users/nberg/projects/doe/data/processed/loca_livneh_fut_1991-2000_tmax_april_CA_mask_same_grid.nc\n",
      "/Users/nberg/projects/doe/data/processed/loca_livneh_hist_1991-2000_annual_pr_CA_mask_same_grid.nc\n",
      "/Users/nberg/projects/doe/data/processed/loca_livneh_fut_1991-2000_annual_pr_CA_mask_same_grid.nc\n",
      "/Users/nberg/projects/doe/data/processed/livneh_hist_1991-2000_tmax_april_CA_mask_same_grid.nc\n",
      "/Users/nberg/projects/doe/data/processed/livneh_hist_1991-2000_annual_pr_CA_mask_same_grid.nc\n"
     ]
    }
   ],
   "source": [
    "# Carve out the grids of WRF, LOCA-WRF, and LOCA-Livneh to match Livneh\n",
    "import os\n",
    "import subprocess\n",
    "from shutil import copyfile\n",
    "\n",
    "grid_info = {\n",
    "            'wrf': {'lat-strt':37, 'lat-end':231, 'lon-strt':87, 'lon-end':265},\n",
    "            'loca_wrf': {'lat-strt':41, 'lat-end':235, 'lon-strt':91, 'lon-end':269},\n",
    "            'loca_livneh': {'lat-strt':3, 'lat-end':197, 'lon-strt':3, 'lon-end':181}\n",
    "            }\n",
    "\n",
    "datasets = ['wrf', 'loca_wrf', 'loca_livneh']\n",
    "variables = ['tmax_april', 'annual_pr']\n",
    "periods = ['hist', 'fut']\n",
    "\n",
    "src_dir = '/Users/nberg/projects/doe/data/processed/'\n",
    "\n",
    "for dataset in datasets:\n",
    "    lat_strt = grid_info[dataset]['lat-strt']\n",
    "    lat_end = grid_info[dataset]['lat-end']\n",
    "    lon_strt = grid_info[dataset]['lon-strt']\n",
    "    lon_end = grid_info[dataset]['lon-end']\n",
    "    for variable in variables:\n",
    "        for period in periods:\n",
    "            src_fl = src_dir+'{0}_{1}_1991-2000_{2}_CA_mask.nc'.format(dataset, period, variable)\n",
    "            dest_fl = src_dir+'{0}_{1}_1991-2000_{2}_CA_mask_same_grid.nc'.format(dataset, period, variable)\n",
    "            \n",
    "            # ncks -d lat,lat_strt,lat_end -d lon,lon_strt,lon_end src_fl -O dest_fl\n",
    "            subprocess.call(['ncks', '-d', 'lat,'+str(lat_strt)+','+str(lat_end), '-d', 'lon,'+str(lon_strt)+','+str(lon_end), src_fl, '-O', dest_fl])\n",
    "            print(dest_fl)\n",
    "\n",
    "            \n",
    "# For Livneh, which does need to be chunked, just copy the file names to have \"same_grid\" at the end\n",
    "for variable in variables:\n",
    "    src_fl = src_dir+'livneh_hist_1991-2000_{0}_CA_mask.nc'.format(variable)\n",
    "    dest_fl = src_dir+'livneh_hist_1991-2000_{0}_CA_mask_same_grid.nc'.format(variable)\n",
    "    copyfile(src_fl, dest_fl)\n",
    "    print(dest_fl)"
   ]
  },
  {
   "cell_type": "code",
   "execution_count": 16,
   "metadata": {},
   "outputs": [],
   "source": [
    "\n"
   ]
  },
  {
   "cell_type": "code",
   "execution_count": null,
   "metadata": {},
   "outputs": [],
   "source": []
  }
 ],
 "metadata": {
  "kernelspec": {
   "display_name": "Python 3",
   "language": "python",
   "name": "python3"
  },
  "language_info": {
   "codemirror_mode": {
    "name": "ipython",
    "version": 3
   },
   "file_extension": ".py",
   "mimetype": "text/x-python",
   "name": "python",
   "nbconvert_exporter": "python",
   "pygments_lexer": "ipython3",
   "version": "3.5.4"
  }
 },
 "nbformat": 4,
 "nbformat_minor": 2
}
